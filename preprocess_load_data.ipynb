{
 "cells": [
  {
   "cell_type": "code",
   "execution_count": 55,
   "metadata": {},
   "outputs": [],
   "source": [
    "import numpy as np\n",
    "import pandas as pd\n",
    "import json\n",
    "import os"
   ]
  },
  {
   "cell_type": "markdown",
   "metadata": {},
   "source": [
    "# Merge Questions & Annotations JSON files\n",
    "We will transform JSON files to CSV & only keep relevant information. Then merge the questions & annotations JSON files for both train & validation.\n",
    "\n",
    "**NOTE**: Run this section for both train & validation JSON files. Comment the train2014 file paths & uncomment the val2014 file paths to run for validation JSON files."
   ]
  },
  {
   "cell_type": "code",
   "execution_count": 10,
   "metadata": {},
   "outputs": [],
   "source": [
    "annotations_file_path = \"./data/train/v2_mscoco_train2014_annotations.json\"\n",
    "questions_file_path = \"./data/train/v2_OpenEnded_mscoco_train2014_questions.json\"\n",
    "# annotations_file_path = \"./data/val/v2_mscoco_val2014_annotations.json\"\n",
    "# questions_file_path = \"./data/val/v2_OpenEnded_mscoco_val2014_questions.json\"\n",
    "\n",
    "merge_file_path = \"./data/train/merged.csv\"\n",
    "one_word_answers_file_path = \"./data/train/one_word_answers.csv\"\n",
    "# merge_file_path = \"./data/val/merged.csv\"\n",
    "# one_word_answers_file_path = \"./data/val/one_word_answers.csv\""
   ]
  },
  {
   "cell_type": "markdown",
   "metadata": {},
   "source": [
    "## Transform annotations file"
   ]
  },
  {
   "cell_type": "code",
   "execution_count": 11,
   "metadata": {},
   "outputs": [
    {
     "name": "stdout",
     "output_type": "stream",
     "text": [
      "{'question_type': 'what is this', 'multiple_choice_answer': 'net', 'answers': [{'answer': 'net', 'answer_confidence': 'maybe', 'answer_id': 1}, {'answer': 'net', 'answer_confidence': 'yes', 'answer_id': 2}, {'answer': 'net', 'answer_confidence': 'yes', 'answer_id': 3}, {'answer': 'netting', 'answer_confidence': 'yes', 'answer_id': 4}, {'answer': 'net', 'answer_confidence': 'yes', 'answer_id': 5}, {'answer': 'net', 'answer_confidence': 'yes', 'answer_id': 6}, {'answer': 'mesh', 'answer_confidence': 'maybe', 'answer_id': 7}, {'answer': 'net', 'answer_confidence': 'yes', 'answer_id': 8}, {'answer': 'net', 'answer_confidence': 'yes', 'answer_id': 9}, {'answer': 'net', 'answer_confidence': 'yes', 'answer_id': 10}], 'image_id': 458752, 'answer_type': 'other', 'question_id': 458752000}\n"
     ]
    }
   ],
   "source": [
    "# Load the JSON file\n",
    "with open(annotations_file_path, \"r\") as file:\n",
    "    data = json.load(file)\n",
    "\n",
    "# Print the loaded data\n",
    "print(data[\"annotations\"][0])"
   ]
  },
  {
   "cell_type": "code",
   "execution_count": 12,
   "metadata": {},
   "outputs": [],
   "source": [
    "annotations_df = pd.DataFrame(data[\"annotations\"])"
   ]
  },
  {
   "cell_type": "code",
   "execution_count": 13,
   "metadata": {},
   "outputs": [
    {
     "data": {
      "text/html": [
       "<div>\n",
       "<style scoped>\n",
       "    .dataframe tbody tr th:only-of-type {\n",
       "        vertical-align: middle;\n",
       "    }\n",
       "\n",
       "    .dataframe tbody tr th {\n",
       "        vertical-align: top;\n",
       "    }\n",
       "\n",
       "    .dataframe thead th {\n",
       "        text-align: right;\n",
       "    }\n",
       "</style>\n",
       "<table border=\"1\" class=\"dataframe\">\n",
       "  <thead>\n",
       "    <tr style=\"text-align: right;\">\n",
       "      <th></th>\n",
       "      <th>question_type</th>\n",
       "      <th>multiple_choice_answer</th>\n",
       "      <th>answers</th>\n",
       "      <th>image_id</th>\n",
       "      <th>answer_type</th>\n",
       "      <th>question_id</th>\n",
       "    </tr>\n",
       "  </thead>\n",
       "  <tbody>\n",
       "    <tr>\n",
       "      <th>0</th>\n",
       "      <td>what is this</td>\n",
       "      <td>net</td>\n",
       "      <td>[{'answer': 'net', 'answer_confidence': 'maybe...</td>\n",
       "      <td>458752</td>\n",
       "      <td>other</td>\n",
       "      <td>458752000</td>\n",
       "    </tr>\n",
       "    <tr>\n",
       "      <th>1</th>\n",
       "      <td>what</td>\n",
       "      <td>pitcher</td>\n",
       "      <td>[{'answer': 'pitcher', 'answer_confidence': 'y...</td>\n",
       "      <td>458752</td>\n",
       "      <td>other</td>\n",
       "      <td>458752001</td>\n",
       "    </tr>\n",
       "    <tr>\n",
       "      <th>2</th>\n",
       "      <td>what color is the</td>\n",
       "      <td>orange</td>\n",
       "      <td>[{'answer': 'orange', 'answer_confidence': 'ye...</td>\n",
       "      <td>458752</td>\n",
       "      <td>other</td>\n",
       "      <td>458752002</td>\n",
       "    </tr>\n",
       "    <tr>\n",
       "      <th>3</th>\n",
       "      <td>is this</td>\n",
       "      <td>yes</td>\n",
       "      <td>[{'answer': 'yes', 'answer_confidence': 'yes',...</td>\n",
       "      <td>458752</td>\n",
       "      <td>yes/no</td>\n",
       "      <td>458752003</td>\n",
       "    </tr>\n",
       "    <tr>\n",
       "      <th>4</th>\n",
       "      <td>what color is the</td>\n",
       "      <td>white</td>\n",
       "      <td>[{'answer': 'white', 'answer_confidence': 'yes...</td>\n",
       "      <td>262146</td>\n",
       "      <td>other</td>\n",
       "      <td>262146000</td>\n",
       "    </tr>\n",
       "  </tbody>\n",
       "</table>\n",
       "</div>"
      ],
      "text/plain": [
       "       question_type multiple_choice_answer  \\\n",
       "0       what is this                    net   \n",
       "1               what                pitcher   \n",
       "2  what color is the                 orange   \n",
       "3            is this                    yes   \n",
       "4  what color is the                  white   \n",
       "\n",
       "                                             answers  image_id answer_type  \\\n",
       "0  [{'answer': 'net', 'answer_confidence': 'maybe...    458752       other   \n",
       "1  [{'answer': 'pitcher', 'answer_confidence': 'y...    458752       other   \n",
       "2  [{'answer': 'orange', 'answer_confidence': 'ye...    458752       other   \n",
       "3  [{'answer': 'yes', 'answer_confidence': 'yes',...    458752      yes/no   \n",
       "4  [{'answer': 'white', 'answer_confidence': 'yes...    262146       other   \n",
       "\n",
       "   question_id  \n",
       "0    458752000  \n",
       "1    458752001  \n",
       "2    458752002  \n",
       "3    458752003  \n",
       "4    262146000  "
      ]
     },
     "execution_count": 13,
     "metadata": {},
     "output_type": "execute_result"
    }
   ],
   "source": [
    "annotations_df.head()"
   ]
  },
  {
   "cell_type": "code",
   "execution_count": 14,
   "metadata": {},
   "outputs": [],
   "source": [
    "answers_df = pd.json_normalize(annotations_df[\"answers\"])\n",
    "\n",
    "# Concatenate the normalized 'answers' DataFrame with the original 'annotations_df' DataFrame\n",
    "annotations_df = pd.concat([annotations_df, answers_df], axis=1)\n",
    "\n",
    "# Drop the original 'answers' column\n",
    "annotations_df = annotations_df.drop(\"answers\", axis=1)"
   ]
  },
  {
   "cell_type": "code",
   "execution_count": 15,
   "metadata": {},
   "outputs": [
    {
     "data": {
      "text/html": [
       "<div>\n",
       "<style scoped>\n",
       "    .dataframe tbody tr th:only-of-type {\n",
       "        vertical-align: middle;\n",
       "    }\n",
       "\n",
       "    .dataframe tbody tr th {\n",
       "        vertical-align: top;\n",
       "    }\n",
       "\n",
       "    .dataframe thead th {\n",
       "        text-align: right;\n",
       "    }\n",
       "</style>\n",
       "<table border=\"1\" class=\"dataframe\">\n",
       "  <thead>\n",
       "    <tr style=\"text-align: right;\">\n",
       "      <th></th>\n",
       "      <th>question_type</th>\n",
       "      <th>multiple_choice_answer</th>\n",
       "      <th>image_id</th>\n",
       "      <th>answer_type</th>\n",
       "      <th>question_id</th>\n",
       "      <th>0</th>\n",
       "      <th>1</th>\n",
       "      <th>2</th>\n",
       "      <th>3</th>\n",
       "      <th>4</th>\n",
       "      <th>5</th>\n",
       "      <th>6</th>\n",
       "      <th>7</th>\n",
       "      <th>8</th>\n",
       "      <th>9</th>\n",
       "    </tr>\n",
       "  </thead>\n",
       "  <tbody>\n",
       "    <tr>\n",
       "      <th>0</th>\n",
       "      <td>what is this</td>\n",
       "      <td>net</td>\n",
       "      <td>458752</td>\n",
       "      <td>other</td>\n",
       "      <td>458752000</td>\n",
       "      <td>{'answer': 'net', 'answer_confidence': 'maybe'...</td>\n",
       "      <td>{'answer': 'net', 'answer_confidence': 'yes', ...</td>\n",
       "      <td>{'answer': 'net', 'answer_confidence': 'yes', ...</td>\n",
       "      <td>{'answer': 'netting', 'answer_confidence': 'ye...</td>\n",
       "      <td>{'answer': 'net', 'answer_confidence': 'yes', ...</td>\n",
       "      <td>{'answer': 'net', 'answer_confidence': 'yes', ...</td>\n",
       "      <td>{'answer': 'mesh', 'answer_confidence': 'maybe...</td>\n",
       "      <td>{'answer': 'net', 'answer_confidence': 'yes', ...</td>\n",
       "      <td>{'answer': 'net', 'answer_confidence': 'yes', ...</td>\n",
       "      <td>{'answer': 'net', 'answer_confidence': 'yes', ...</td>\n",
       "    </tr>\n",
       "    <tr>\n",
       "      <th>1</th>\n",
       "      <td>what</td>\n",
       "      <td>pitcher</td>\n",
       "      <td>458752</td>\n",
       "      <td>other</td>\n",
       "      <td>458752001</td>\n",
       "      <td>{'answer': 'pitcher', 'answer_confidence': 'ye...</td>\n",
       "      <td>{'answer': 'catcher', 'answer_confidence': 'no...</td>\n",
       "      <td>{'answer': 'pitcher', 'answer_confidence': 'ye...</td>\n",
       "      <td>{'answer': 'pitcher', 'answer_confidence': 'ye...</td>\n",
       "      <td>{'answer': 'pitcher', 'answer_confidence': 'ye...</td>\n",
       "      <td>{'answer': 'pitcher', 'answer_confidence': 'ye...</td>\n",
       "      <td>{'answer': 'pitcher', 'answer_confidence': 'ye...</td>\n",
       "      <td>{'answer': 'pitcher', 'answer_confidence': 'ye...</td>\n",
       "      <td>{'answer': 'pitcher', 'answer_confidence': 'ye...</td>\n",
       "      <td>{'answer': 'pitcher', 'answer_confidence': 'ye...</td>\n",
       "    </tr>\n",
       "    <tr>\n",
       "      <th>2</th>\n",
       "      <td>what color is the</td>\n",
       "      <td>orange</td>\n",
       "      <td>458752</td>\n",
       "      <td>other</td>\n",
       "      <td>458752002</td>\n",
       "      <td>{'answer': 'orange', 'answer_confidence': 'yes...</td>\n",
       "      <td>{'answer': 'orange', 'answer_confidence': 'yes...</td>\n",
       "      <td>{'answer': 'orange', 'answer_confidence': 'may...</td>\n",
       "      <td>{'answer': 'orange', 'answer_confidence': 'yes...</td>\n",
       "      <td>{'answer': 'orange', 'answer_confidence': 'yes...</td>\n",
       "      <td>{'answer': 'orange', 'answer_confidence': 'yes...</td>\n",
       "      <td>{'answer': 'orange', 'answer_confidence': 'yes...</td>\n",
       "      <td>{'answer': 'orange', 'answer_confidence': 'yes...</td>\n",
       "      <td>{'answer': 'orange', 'answer_confidence': 'yes...</td>\n",
       "      <td>{'answer': 'orange', 'answer_confidence': 'yes...</td>\n",
       "    </tr>\n",
       "    <tr>\n",
       "      <th>3</th>\n",
       "      <td>is this</td>\n",
       "      <td>yes</td>\n",
       "      <td>458752</td>\n",
       "      <td>yes/no</td>\n",
       "      <td>458752003</td>\n",
       "      <td>{'answer': 'yes', 'answer_confidence': 'yes', ...</td>\n",
       "      <td>{'answer': 'yes', 'answer_confidence': 'yes', ...</td>\n",
       "      <td>{'answer': 'yes', 'answer_confidence': 'maybe'...</td>\n",
       "      <td>{'answer': 'yes', 'answer_confidence': 'yes', ...</td>\n",
       "      <td>{'answer': 'yes', 'answer_confidence': 'maybe'...</td>\n",
       "      <td>{'answer': 'no', 'answer_confidence': 'maybe',...</td>\n",
       "      <td>{'answer': 'yes', 'answer_confidence': 'yes', ...</td>\n",
       "      <td>{'answer': 'yes', 'answer_confidence': 'yes', ...</td>\n",
       "      <td>{'answer': 'yes', 'answer_confidence': 'yes', ...</td>\n",
       "      <td>{'answer': 'yes', 'answer_confidence': 'maybe'...</td>\n",
       "    </tr>\n",
       "    <tr>\n",
       "      <th>4</th>\n",
       "      <td>what color is the</td>\n",
       "      <td>white</td>\n",
       "      <td>262146</td>\n",
       "      <td>other</td>\n",
       "      <td>262146000</td>\n",
       "      <td>{'answer': 'white', 'answer_confidence': 'yes'...</td>\n",
       "      <td>{'answer': 'white', 'answer_confidence': 'yes'...</td>\n",
       "      <td>{'answer': 'white', 'answer_confidence': 'yes'...</td>\n",
       "      <td>{'answer': 'white', 'answer_confidence': 'yes'...</td>\n",
       "      <td>{'answer': 'white', 'answer_confidence': 'yes'...</td>\n",
       "      <td>{'answer': 'white', 'answer_confidence': 'yes'...</td>\n",
       "      <td>{'answer': 'white', 'answer_confidence': 'yes'...</td>\n",
       "      <td>{'answer': 'white', 'answer_confidence': 'yes'...</td>\n",
       "      <td>{'answer': 'white', 'answer_confidence': 'yes'...</td>\n",
       "      <td>{'answer': 'white', 'answer_confidence': 'yes'...</td>\n",
       "    </tr>\n",
       "  </tbody>\n",
       "</table>\n",
       "</div>"
      ],
      "text/plain": [
       "       question_type multiple_choice_answer  image_id answer_type  \\\n",
       "0       what is this                    net    458752       other   \n",
       "1               what                pitcher    458752       other   \n",
       "2  what color is the                 orange    458752       other   \n",
       "3            is this                    yes    458752      yes/no   \n",
       "4  what color is the                  white    262146       other   \n",
       "\n",
       "   question_id                                                  0  \\\n",
       "0    458752000  {'answer': 'net', 'answer_confidence': 'maybe'...   \n",
       "1    458752001  {'answer': 'pitcher', 'answer_confidence': 'ye...   \n",
       "2    458752002  {'answer': 'orange', 'answer_confidence': 'yes...   \n",
       "3    458752003  {'answer': 'yes', 'answer_confidence': 'yes', ...   \n",
       "4    262146000  {'answer': 'white', 'answer_confidence': 'yes'...   \n",
       "\n",
       "                                                   1  \\\n",
       "0  {'answer': 'net', 'answer_confidence': 'yes', ...   \n",
       "1  {'answer': 'catcher', 'answer_confidence': 'no...   \n",
       "2  {'answer': 'orange', 'answer_confidence': 'yes...   \n",
       "3  {'answer': 'yes', 'answer_confidence': 'yes', ...   \n",
       "4  {'answer': 'white', 'answer_confidence': 'yes'...   \n",
       "\n",
       "                                                   2  \\\n",
       "0  {'answer': 'net', 'answer_confidence': 'yes', ...   \n",
       "1  {'answer': 'pitcher', 'answer_confidence': 'ye...   \n",
       "2  {'answer': 'orange', 'answer_confidence': 'may...   \n",
       "3  {'answer': 'yes', 'answer_confidence': 'maybe'...   \n",
       "4  {'answer': 'white', 'answer_confidence': 'yes'...   \n",
       "\n",
       "                                                   3  \\\n",
       "0  {'answer': 'netting', 'answer_confidence': 'ye...   \n",
       "1  {'answer': 'pitcher', 'answer_confidence': 'ye...   \n",
       "2  {'answer': 'orange', 'answer_confidence': 'yes...   \n",
       "3  {'answer': 'yes', 'answer_confidence': 'yes', ...   \n",
       "4  {'answer': 'white', 'answer_confidence': 'yes'...   \n",
       "\n",
       "                                                   4  \\\n",
       "0  {'answer': 'net', 'answer_confidence': 'yes', ...   \n",
       "1  {'answer': 'pitcher', 'answer_confidence': 'ye...   \n",
       "2  {'answer': 'orange', 'answer_confidence': 'yes...   \n",
       "3  {'answer': 'yes', 'answer_confidence': 'maybe'...   \n",
       "4  {'answer': 'white', 'answer_confidence': 'yes'...   \n",
       "\n",
       "                                                   5  \\\n",
       "0  {'answer': 'net', 'answer_confidence': 'yes', ...   \n",
       "1  {'answer': 'pitcher', 'answer_confidence': 'ye...   \n",
       "2  {'answer': 'orange', 'answer_confidence': 'yes...   \n",
       "3  {'answer': 'no', 'answer_confidence': 'maybe',...   \n",
       "4  {'answer': 'white', 'answer_confidence': 'yes'...   \n",
       "\n",
       "                                                   6  \\\n",
       "0  {'answer': 'mesh', 'answer_confidence': 'maybe...   \n",
       "1  {'answer': 'pitcher', 'answer_confidence': 'ye...   \n",
       "2  {'answer': 'orange', 'answer_confidence': 'yes...   \n",
       "3  {'answer': 'yes', 'answer_confidence': 'yes', ...   \n",
       "4  {'answer': 'white', 'answer_confidence': 'yes'...   \n",
       "\n",
       "                                                   7  \\\n",
       "0  {'answer': 'net', 'answer_confidence': 'yes', ...   \n",
       "1  {'answer': 'pitcher', 'answer_confidence': 'ye...   \n",
       "2  {'answer': 'orange', 'answer_confidence': 'yes...   \n",
       "3  {'answer': 'yes', 'answer_confidence': 'yes', ...   \n",
       "4  {'answer': 'white', 'answer_confidence': 'yes'...   \n",
       "\n",
       "                                                   8  \\\n",
       "0  {'answer': 'net', 'answer_confidence': 'yes', ...   \n",
       "1  {'answer': 'pitcher', 'answer_confidence': 'ye...   \n",
       "2  {'answer': 'orange', 'answer_confidence': 'yes...   \n",
       "3  {'answer': 'yes', 'answer_confidence': 'yes', ...   \n",
       "4  {'answer': 'white', 'answer_confidence': 'yes'...   \n",
       "\n",
       "                                                   9  \n",
       "0  {'answer': 'net', 'answer_confidence': 'yes', ...  \n",
       "1  {'answer': 'pitcher', 'answer_confidence': 'ye...  \n",
       "2  {'answer': 'orange', 'answer_confidence': 'yes...  \n",
       "3  {'answer': 'yes', 'answer_confidence': 'maybe'...  \n",
       "4  {'answer': 'white', 'answer_confidence': 'yes'...  "
      ]
     },
     "execution_count": 15,
     "metadata": {},
     "output_type": "execute_result"
    }
   ],
   "source": [
    "annotations_df.head()"
   ]
  },
  {
   "cell_type": "code",
   "execution_count": 16,
   "metadata": {},
   "outputs": [
    {
     "name": "stdout",
     "output_type": "stream",
     "text": [
      "{'answer': 'net', 'answer_confidence': 'maybe', 'answer_id': 1}\n",
      "{'answer': 'net', 'answer_confidence': 'yes', 'answer_id': 2}\n",
      "{'answer': 'net', 'answer_confidence': 'yes', 'answer_id': 3}\n",
      "{'answer': 'netting', 'answer_confidence': 'yes', 'answer_id': 4}\n",
      "{'answer': 'net', 'answer_confidence': 'yes', 'answer_id': 5}\n",
      "{'answer': 'net', 'answer_confidence': 'yes', 'answer_id': 6}\n",
      "{'answer': 'mesh', 'answer_confidence': 'maybe', 'answer_id': 7}\n",
      "{'answer': 'net', 'answer_confidence': 'yes', 'answer_id': 8}\n",
      "{'answer': 'net', 'answer_confidence': 'yes', 'answer_id': 9}\n",
      "{'answer': 'net', 'answer_confidence': 'yes', 'answer_id': 10}\n"
     ]
    }
   ],
   "source": [
    "for i in range(10):\n",
    "    print(annotations_df.iloc[0][i])"
   ]
  },
  {
   "cell_type": "code",
   "execution_count": 17,
   "metadata": {},
   "outputs": [
    {
     "data": {
      "text/plain": [
       "'net'"
      ]
     },
     "execution_count": 17,
     "metadata": {},
     "output_type": "execute_result"
    }
   ],
   "source": [
    "annotations_df.iloc[0][0][\"answer\"]"
   ]
  },
  {
   "cell_type": "markdown",
   "metadata": {},
   "source": [
    "## Only pick first answer (0th one) from top 10 answers"
   ]
  },
  {
   "cell_type": "code",
   "execution_count": 18,
   "metadata": {},
   "outputs": [],
   "source": [
    "annotations_df[\"answer\"] = annotations_df.apply(lambda row: row[0][\"answer\"], axis=1)"
   ]
  },
  {
   "cell_type": "markdown",
   "metadata": {},
   "source": [
    "## Only keep important columns: `image_id`, `question_id`, `answer`\n",
    "\n",
    "We will merge `annotations_df` with similar processed `questions_df` to get the final dataframe."
   ]
  },
  {
   "cell_type": "code",
   "execution_count": 19,
   "metadata": {},
   "outputs": [],
   "source": [
    "annotations_df = annotations_df[[\"image_id\", \"question_id\", \"answer\"]]"
   ]
  },
  {
   "cell_type": "code",
   "execution_count": 21,
   "metadata": {},
   "outputs": [
    {
     "data": {
      "text/html": [
       "<div>\n",
       "<style scoped>\n",
       "    .dataframe tbody tr th:only-of-type {\n",
       "        vertical-align: middle;\n",
       "    }\n",
       "\n",
       "    .dataframe tbody tr th {\n",
       "        vertical-align: top;\n",
       "    }\n",
       "\n",
       "    .dataframe thead th {\n",
       "        text-align: right;\n",
       "    }\n",
       "</style>\n",
       "<table border=\"1\" class=\"dataframe\">\n",
       "  <thead>\n",
       "    <tr style=\"text-align: right;\">\n",
       "      <th></th>\n",
       "      <th>image_id</th>\n",
       "      <th>question_id</th>\n",
       "      <th>answer</th>\n",
       "    </tr>\n",
       "  </thead>\n",
       "  <tbody>\n",
       "    <tr>\n",
       "      <th>0</th>\n",
       "      <td>458752</td>\n",
       "      <td>458752000</td>\n",
       "      <td>net</td>\n",
       "    </tr>\n",
       "    <tr>\n",
       "      <th>1</th>\n",
       "      <td>458752</td>\n",
       "      <td>458752001</td>\n",
       "      <td>pitcher</td>\n",
       "    </tr>\n",
       "    <tr>\n",
       "      <th>2</th>\n",
       "      <td>458752</td>\n",
       "      <td>458752002</td>\n",
       "      <td>orange</td>\n",
       "    </tr>\n",
       "    <tr>\n",
       "      <th>3</th>\n",
       "      <td>458752</td>\n",
       "      <td>458752003</td>\n",
       "      <td>yes</td>\n",
       "    </tr>\n",
       "    <tr>\n",
       "      <th>4</th>\n",
       "      <td>262146</td>\n",
       "      <td>262146000</td>\n",
       "      <td>white</td>\n",
       "    </tr>\n",
       "  </tbody>\n",
       "</table>\n",
       "</div>"
      ],
      "text/plain": [
       "   image_id  question_id   answer\n",
       "0    458752    458752000      net\n",
       "1    458752    458752001  pitcher\n",
       "2    458752    458752002   orange\n",
       "3    458752    458752003      yes\n",
       "4    262146    262146000    white"
      ]
     },
     "execution_count": 21,
     "metadata": {},
     "output_type": "execute_result"
    }
   ],
   "source": [
    "annotations_df.head()"
   ]
  },
  {
   "cell_type": "markdown",
   "metadata": {},
   "source": [
    "## Transform questions file"
   ]
  },
  {
   "cell_type": "code",
   "execution_count": 22,
   "metadata": {},
   "outputs": [
    {
     "name": "stdout",
     "output_type": "stream",
     "text": [
      "{'image_id': 458752, 'question': 'What is this photo taken looking through?', 'question_id': 458752000}\n"
     ]
    }
   ],
   "source": [
    "# Load the JSON file\n",
    "with open(questions_file_path, \"r\") as file:\n",
    "    data = json.load(file)\n",
    "\n",
    "# Print the loaded data\n",
    "print(data[\"questions\"][0])"
   ]
  },
  {
   "cell_type": "code",
   "execution_count": 23,
   "metadata": {},
   "outputs": [],
   "source": [
    "questions_df = pd.DataFrame(data[\"questions\"])"
   ]
  },
  {
   "cell_type": "code",
   "execution_count": 24,
   "metadata": {},
   "outputs": [
    {
     "data": {
      "text/html": [
       "<div>\n",
       "<style scoped>\n",
       "    .dataframe tbody tr th:only-of-type {\n",
       "        vertical-align: middle;\n",
       "    }\n",
       "\n",
       "    .dataframe tbody tr th {\n",
       "        vertical-align: top;\n",
       "    }\n",
       "\n",
       "    .dataframe thead th {\n",
       "        text-align: right;\n",
       "    }\n",
       "</style>\n",
       "<table border=\"1\" class=\"dataframe\">\n",
       "  <thead>\n",
       "    <tr style=\"text-align: right;\">\n",
       "      <th></th>\n",
       "      <th>image_id</th>\n",
       "      <th>question</th>\n",
       "      <th>question_id</th>\n",
       "    </tr>\n",
       "  </thead>\n",
       "  <tbody>\n",
       "    <tr>\n",
       "      <th>0</th>\n",
       "      <td>458752</td>\n",
       "      <td>What is this photo taken looking through?</td>\n",
       "      <td>458752000</td>\n",
       "    </tr>\n",
       "    <tr>\n",
       "      <th>1</th>\n",
       "      <td>458752</td>\n",
       "      <td>What position is this man playing?</td>\n",
       "      <td>458752001</td>\n",
       "    </tr>\n",
       "    <tr>\n",
       "      <th>2</th>\n",
       "      <td>458752</td>\n",
       "      <td>What color is the players shirt?</td>\n",
       "      <td>458752002</td>\n",
       "    </tr>\n",
       "    <tr>\n",
       "      <th>3</th>\n",
       "      <td>458752</td>\n",
       "      <td>Is this man a professional baseball player?</td>\n",
       "      <td>458752003</td>\n",
       "    </tr>\n",
       "    <tr>\n",
       "      <th>4</th>\n",
       "      <td>262146</td>\n",
       "      <td>What color is the snow?</td>\n",
       "      <td>262146000</td>\n",
       "    </tr>\n",
       "  </tbody>\n",
       "</table>\n",
       "</div>"
      ],
      "text/plain": [
       "   image_id                                     question  question_id\n",
       "0    458752    What is this photo taken looking through?    458752000\n",
       "1    458752           What position is this man playing?    458752001\n",
       "2    458752             What color is the players shirt?    458752002\n",
       "3    458752  Is this man a professional baseball player?    458752003\n",
       "4    262146                      What color is the snow?    262146000"
      ]
     },
     "execution_count": 24,
     "metadata": {},
     "output_type": "execute_result"
    }
   ],
   "source": [
    "questions_df.head()"
   ]
  },
  {
   "cell_type": "code",
   "execution_count": 25,
   "metadata": {},
   "outputs": [],
   "source": [
    "questions_df.drop(\"image_id\", axis=1, inplace=True)"
   ]
  },
  {
   "cell_type": "code",
   "execution_count": 26,
   "metadata": {},
   "outputs": [
    {
     "data": {
      "text/html": [
       "<div>\n",
       "<style scoped>\n",
       "    .dataframe tbody tr th:only-of-type {\n",
       "        vertical-align: middle;\n",
       "    }\n",
       "\n",
       "    .dataframe tbody tr th {\n",
       "        vertical-align: top;\n",
       "    }\n",
       "\n",
       "    .dataframe thead th {\n",
       "        text-align: right;\n",
       "    }\n",
       "</style>\n",
       "<table border=\"1\" class=\"dataframe\">\n",
       "  <thead>\n",
       "    <tr style=\"text-align: right;\">\n",
       "      <th></th>\n",
       "      <th>question</th>\n",
       "      <th>question_id</th>\n",
       "    </tr>\n",
       "  </thead>\n",
       "  <tbody>\n",
       "    <tr>\n",
       "      <th>0</th>\n",
       "      <td>What is this photo taken looking through?</td>\n",
       "      <td>458752000</td>\n",
       "    </tr>\n",
       "    <tr>\n",
       "      <th>1</th>\n",
       "      <td>What position is this man playing?</td>\n",
       "      <td>458752001</td>\n",
       "    </tr>\n",
       "    <tr>\n",
       "      <th>2</th>\n",
       "      <td>What color is the players shirt?</td>\n",
       "      <td>458752002</td>\n",
       "    </tr>\n",
       "    <tr>\n",
       "      <th>3</th>\n",
       "      <td>Is this man a professional baseball player?</td>\n",
       "      <td>458752003</td>\n",
       "    </tr>\n",
       "    <tr>\n",
       "      <th>4</th>\n",
       "      <td>What color is the snow?</td>\n",
       "      <td>262146000</td>\n",
       "    </tr>\n",
       "  </tbody>\n",
       "</table>\n",
       "</div>"
      ],
      "text/plain": [
       "                                      question  question_id\n",
       "0    What is this photo taken looking through?    458752000\n",
       "1           What position is this man playing?    458752001\n",
       "2             What color is the players shirt?    458752002\n",
       "3  Is this man a professional baseball player?    458752003\n",
       "4                      What color is the snow?    262146000"
      ]
     },
     "execution_count": 26,
     "metadata": {},
     "output_type": "execute_result"
    }
   ],
   "source": [
    "questions_df.head()"
   ]
  },
  {
   "cell_type": "markdown",
   "metadata": {},
   "source": [
    "## Merge `annotations_df` & `questions_df` on `question_id`"
   ]
  },
  {
   "cell_type": "code",
   "execution_count": 27,
   "metadata": {},
   "outputs": [
    {
     "data": {
      "text/plain": [
       "(443757, 443757)"
      ]
     },
     "execution_count": 27,
     "metadata": {},
     "output_type": "execute_result"
    }
   ],
   "source": [
    "len(annotations_df), len(questions_df)"
   ]
  },
  {
   "cell_type": "code",
   "execution_count": 28,
   "metadata": {},
   "outputs": [],
   "source": [
    "merged_df = pd.merge(annotations_df, questions_df, on=\"question_id\")"
   ]
  },
  {
   "cell_type": "code",
   "execution_count": 29,
   "metadata": {},
   "outputs": [
    {
     "data": {
      "text/html": [
       "<div>\n",
       "<style scoped>\n",
       "    .dataframe tbody tr th:only-of-type {\n",
       "        vertical-align: middle;\n",
       "    }\n",
       "\n",
       "    .dataframe tbody tr th {\n",
       "        vertical-align: top;\n",
       "    }\n",
       "\n",
       "    .dataframe thead th {\n",
       "        text-align: right;\n",
       "    }\n",
       "</style>\n",
       "<table border=\"1\" class=\"dataframe\">\n",
       "  <thead>\n",
       "    <tr style=\"text-align: right;\">\n",
       "      <th></th>\n",
       "      <th>image_id</th>\n",
       "      <th>question_id</th>\n",
       "      <th>answer</th>\n",
       "      <th>question</th>\n",
       "    </tr>\n",
       "  </thead>\n",
       "  <tbody>\n",
       "    <tr>\n",
       "      <th>0</th>\n",
       "      <td>458752</td>\n",
       "      <td>458752000</td>\n",
       "      <td>net</td>\n",
       "      <td>What is this photo taken looking through?</td>\n",
       "    </tr>\n",
       "    <tr>\n",
       "      <th>1</th>\n",
       "      <td>458752</td>\n",
       "      <td>458752001</td>\n",
       "      <td>pitcher</td>\n",
       "      <td>What position is this man playing?</td>\n",
       "    </tr>\n",
       "    <tr>\n",
       "      <th>2</th>\n",
       "      <td>458752</td>\n",
       "      <td>458752002</td>\n",
       "      <td>orange</td>\n",
       "      <td>What color is the players shirt?</td>\n",
       "    </tr>\n",
       "    <tr>\n",
       "      <th>3</th>\n",
       "      <td>458752</td>\n",
       "      <td>458752003</td>\n",
       "      <td>yes</td>\n",
       "      <td>Is this man a professional baseball player?</td>\n",
       "    </tr>\n",
       "    <tr>\n",
       "      <th>4</th>\n",
       "      <td>262146</td>\n",
       "      <td>262146000</td>\n",
       "      <td>white</td>\n",
       "      <td>What color is the snow?</td>\n",
       "    </tr>\n",
       "  </tbody>\n",
       "</table>\n",
       "</div>"
      ],
      "text/plain": [
       "   image_id  question_id   answer                                     question\n",
       "0    458752    458752000      net    What is this photo taken looking through?\n",
       "1    458752    458752001  pitcher           What position is this man playing?\n",
       "2    458752    458752002   orange             What color is the players shirt?\n",
       "3    458752    458752003      yes  Is this man a professional baseball player?\n",
       "4    262146    262146000    white                      What color is the snow?"
      ]
     },
     "execution_count": 29,
     "metadata": {},
     "output_type": "execute_result"
    }
   ],
   "source": [
    "merged_df.head()"
   ]
  },
  {
   "cell_type": "markdown",
   "metadata": {},
   "source": [
    "## Save `merged.csv` file"
   ]
  },
  {
   "cell_type": "code",
   "execution_count": 30,
   "metadata": {},
   "outputs": [],
   "source": [
    "merged_df.to_csv(merge_file_path, index=False)"
   ]
  },
  {
   "cell_type": "markdown",
   "metadata": {},
   "source": [
    "# Understanding the question & answers"
   ]
  },
  {
   "cell_type": "code",
   "execution_count": 31,
   "metadata": {},
   "outputs": [],
   "source": [
    "def is_answer_one_word(answer):\n",
    "    return len(answer.split()) == 1"
   ]
  },
  {
   "cell_type": "markdown",
   "metadata": {},
   "source": [
    "## Only some 40,000 questions in train & 20,000 questions in eval have more than one word answers\n",
    "This is really helpful as our simple BERT + ViT model is able to do classification on some top 1000 answers which are one word. It is not a generative model."
   ]
  },
  {
   "cell_type": "code",
   "execution_count": 33,
   "metadata": {},
   "outputs": [
    {
     "name": "stdout",
     "output_type": "stream",
     "text": [
      "Total number of questions: 443757\n",
      "Number of questions with one-word answers: 397022\n"
     ]
    }
   ],
   "source": [
    "count_one_word = merged_df[\"answer\"].apply(is_answer_one_word).sum()\n",
    "print(\"Total number of questions:\", len(merged_df))\n",
    "print(\"Number of questions with one-word answers:\", count_one_word)"
   ]
  },
  {
   "cell_type": "markdown",
   "metadata": {},
   "source": [
    "# Filter our data from `merged_df` to only keep questions with one word answers"
   ]
  },
  {
   "cell_type": "code",
   "execution_count": 34,
   "metadata": {},
   "outputs": [],
   "source": [
    "one_word_df = merged_df[merged_df[\"answer\"].apply(is_answer_one_word)]"
   ]
  },
  {
   "cell_type": "markdown",
   "metadata": {},
   "source": [
    "## Save `one_word_answers.csv` file"
   ]
  },
  {
   "cell_type": "code",
   "execution_count": 35,
   "metadata": {},
   "outputs": [],
   "source": [
    "one_word_df.to_csv(one_word_answers_file_path, index=False)"
   ]
  },
  {
   "cell_type": "markdown",
   "metadata": {},
   "source": [
    "# Keep top 1000 answers\n",
    "\n",
    "As discussed earlier, our BERT + ViT is a simple model that is not generative, and can only do classification on some top 1000 answers. \n",
    "\n",
    "**NOTE**: We will generate the answer space from the `one_word_answers.csv` file in a later section: **Generate Answer Space**"
   ]
  },
  {
   "cell_type": "code",
   "execution_count": 36,
   "metadata": {},
   "outputs": [],
   "source": [
    "train_one_word_answers_file_path = \"./data/train/one_word_answers.csv\"\n",
    "val_one_word_answers_file_path = \"./data/val/one_word_answers.csv\"\n",
    "\n",
    "filtered_train_file_path = \"./data/train/filtered.csv\"\n",
    "filtered_val_file_path = \"./data/val/filtered.csv\""
   ]
  },
  {
   "cell_type": "code",
   "execution_count": 37,
   "metadata": {},
   "outputs": [],
   "source": [
    "train_df = pd.read_csv(train_one_word_answers_file_path)\n",
    "val_df = pd.read_csv(val_one_word_answers_file_path)"
   ]
  },
  {
   "cell_type": "code",
   "execution_count": 38,
   "metadata": {},
   "outputs": [
    {
     "data": {
      "text/html": [
       "<div>\n",
       "<style scoped>\n",
       "    .dataframe tbody tr th:only-of-type {\n",
       "        vertical-align: middle;\n",
       "    }\n",
       "\n",
       "    .dataframe tbody tr th {\n",
       "        vertical-align: top;\n",
       "    }\n",
       "\n",
       "    .dataframe thead th {\n",
       "        text-align: right;\n",
       "    }\n",
       "</style>\n",
       "<table border=\"1\" class=\"dataframe\">\n",
       "  <thead>\n",
       "    <tr style=\"text-align: right;\">\n",
       "      <th></th>\n",
       "      <th>image_id</th>\n",
       "      <th>question_id</th>\n",
       "      <th>answer</th>\n",
       "      <th>question</th>\n",
       "    </tr>\n",
       "  </thead>\n",
       "  <tbody>\n",
       "    <tr>\n",
       "      <th>0</th>\n",
       "      <td>458752</td>\n",
       "      <td>458752000</td>\n",
       "      <td>net</td>\n",
       "      <td>What is this photo taken looking through?</td>\n",
       "    </tr>\n",
       "    <tr>\n",
       "      <th>1</th>\n",
       "      <td>458752</td>\n",
       "      <td>458752001</td>\n",
       "      <td>pitcher</td>\n",
       "      <td>What position is this man playing?</td>\n",
       "    </tr>\n",
       "    <tr>\n",
       "      <th>2</th>\n",
       "      <td>458752</td>\n",
       "      <td>458752002</td>\n",
       "      <td>orange</td>\n",
       "      <td>What color is the players shirt?</td>\n",
       "    </tr>\n",
       "    <tr>\n",
       "      <th>3</th>\n",
       "      <td>458752</td>\n",
       "      <td>458752003</td>\n",
       "      <td>yes</td>\n",
       "      <td>Is this man a professional baseball player?</td>\n",
       "    </tr>\n",
       "    <tr>\n",
       "      <th>4</th>\n",
       "      <td>262146</td>\n",
       "      <td>262146000</td>\n",
       "      <td>white</td>\n",
       "      <td>What color is the snow?</td>\n",
       "    </tr>\n",
       "  </tbody>\n",
       "</table>\n",
       "</div>"
      ],
      "text/plain": [
       "   image_id  question_id   answer                                     question\n",
       "0    458752    458752000      net    What is this photo taken looking through?\n",
       "1    458752    458752001  pitcher           What position is this man playing?\n",
       "2    458752    458752002   orange             What color is the players shirt?\n",
       "3    458752    458752003      yes  Is this man a professional baseball player?\n",
       "4    262146    262146000    white                      What color is the snow?"
      ]
     },
     "execution_count": 38,
     "metadata": {},
     "output_type": "execute_result"
    }
   ],
   "source": [
    "train_df.head()"
   ]
  },
  {
   "cell_type": "code",
   "execution_count": 39,
   "metadata": {},
   "outputs": [
    {
     "data": {
      "text/html": [
       "<div>\n",
       "<style scoped>\n",
       "    .dataframe tbody tr th:only-of-type {\n",
       "        vertical-align: middle;\n",
       "    }\n",
       "\n",
       "    .dataframe tbody tr th {\n",
       "        vertical-align: top;\n",
       "    }\n",
       "\n",
       "    .dataframe thead th {\n",
       "        text-align: right;\n",
       "    }\n",
       "</style>\n",
       "<table border=\"1\" class=\"dataframe\">\n",
       "  <thead>\n",
       "    <tr style=\"text-align: right;\">\n",
       "      <th></th>\n",
       "      <th>image_id</th>\n",
       "      <th>question_id</th>\n",
       "      <th>answer</th>\n",
       "      <th>question</th>\n",
       "    </tr>\n",
       "  </thead>\n",
       "  <tbody>\n",
       "    <tr>\n",
       "      <th>0</th>\n",
       "      <td>262148</td>\n",
       "      <td>262148000</td>\n",
       "      <td>down</td>\n",
       "      <td>Where is he looking?</td>\n",
       "    </tr>\n",
       "    <tr>\n",
       "      <th>1</th>\n",
       "      <td>262148</td>\n",
       "      <td>262148001</td>\n",
       "      <td>spectating</td>\n",
       "      <td>What are the people in the background doing?</td>\n",
       "    </tr>\n",
       "    <tr>\n",
       "      <th>2</th>\n",
       "      <td>262148</td>\n",
       "      <td>262148002</td>\n",
       "      <td>table</td>\n",
       "      <td>What is he on top of?</td>\n",
       "    </tr>\n",
       "    <tr>\n",
       "      <th>3</th>\n",
       "      <td>393225</td>\n",
       "      <td>393225000</td>\n",
       "      <td>foodiebakercom</td>\n",
       "      <td>What website copyrighted the picture?</td>\n",
       "    </tr>\n",
       "    <tr>\n",
       "      <th>4</th>\n",
       "      <td>393225</td>\n",
       "      <td>393225001</td>\n",
       "      <td>no</td>\n",
       "      <td>Is this a creamy soup?</td>\n",
       "    </tr>\n",
       "  </tbody>\n",
       "</table>\n",
       "</div>"
      ],
      "text/plain": [
       "   image_id  question_id          answer  \\\n",
       "0    262148    262148000            down   \n",
       "1    262148    262148001      spectating   \n",
       "2    262148    262148002           table   \n",
       "3    393225    393225000  foodiebakercom   \n",
       "4    393225    393225001              no   \n",
       "\n",
       "                                       question  \n",
       "0                          Where is he looking?  \n",
       "1  What are the people in the background doing?  \n",
       "2                         What is he on top of?  \n",
       "3         What website copyrighted the picture?  \n",
       "4                        Is this a creamy soup?  "
      ]
     },
     "execution_count": 39,
     "metadata": {},
     "output_type": "execute_result"
    }
   ],
   "source": [
    "val_df.head()"
   ]
  },
  {
   "cell_type": "markdown",
   "metadata": {},
   "source": [
    "## Use a dict to store answers & their counts\n",
    "\n",
    "**NOTE**: we have already preprocessed the answers, so we are sure that we will only get one word answers in lowercase."
   ]
  },
  {
   "cell_type": "code",
   "execution_count": 40,
   "metadata": {},
   "outputs": [],
   "source": [
    "answers = dict()"
   ]
  },
  {
   "cell_type": "code",
   "execution_count": 41,
   "metadata": {},
   "outputs": [],
   "source": [
    "for answer in train_df[\"answer\"]:\n",
    "    answers[answer] = answers.get(answer, 0) + 1\n",
    "\n",
    "for answer in val_df[\"answer\"]:\n",
    "    answers[answer] = answers.get(answer, 0) + 1"
   ]
  },
  {
   "cell_type": "code",
   "execution_count": 45,
   "metadata": {},
   "outputs": [
    {
     "name": "stdout",
     "output_type": "stream",
     "text": [
      "Total number of answers: 588250\n",
      "Total number of unique answers: 15733\n"
     ]
    }
   ],
   "source": [
    "print(\"Total number of answers:\", len(train_df) + len(val_df))\n",
    "print(\"Total number of unique answers:\", len(answers.keys()))"
   ]
  },
  {
   "cell_type": "markdown",
   "metadata": {},
   "source": [
    "## Get the top 1000 answers"
   ]
  },
  {
   "cell_type": "code",
   "execution_count": 46,
   "metadata": {},
   "outputs": [],
   "source": [
    "top_answers = sorted(answers.items(), key=lambda x: x[1], reverse=True)[:1000]\n",
    "top_answers = [answer for answer, _ in top_answers]"
   ]
  },
  {
   "cell_type": "code",
   "execution_count": 49,
   "metadata": {},
   "outputs": [
    {
     "name": "stdout",
     "output_type": "stream",
     "text": [
      "Top 10th answer: 4\n",
      "Top 100th answer: bird\n"
     ]
    }
   ],
   "source": [
    "print(\"Top 10th answer:\", top_answers[10])\n",
    "print(\"Top 100th answer:\", top_answers[100])"
   ]
  },
  {
   "cell_type": "code",
   "execution_count": 50,
   "metadata": {},
   "outputs": [
    {
     "name": "stdout",
     "output_type": "stream",
     "text": [
      "Top 10th answer frequency: 6417\n",
      "Top 100th answer frequency: 455\n"
     ]
    }
   ],
   "source": [
    "print(\"Top 10th answer frequency:\", answers[top_answers[10]])\n",
    "print(\"Top 100th answer frequency:\", answers[top_answers[100]])"
   ]
  },
  {
   "cell_type": "markdown",
   "metadata": {},
   "source": [
    "## Filter our `train_df` & `val_df` to only keep questions with answers in the top 1000 answers"
   ]
  },
  {
   "cell_type": "code",
   "execution_count": 51,
   "metadata": {},
   "outputs": [
    {
     "name": "stdout",
     "output_type": "stream",
     "text": [
      "Shape of train_df before filtering: (397022, 4)\n",
      "Shape of val_df before filtering: (191228, 4)\n"
     ]
    }
   ],
   "source": [
    "print(\"Shape of train_df before filtering:\", train_df.shape)\n",
    "print(\"Shape of val_df before filtering:\", val_df.shape)"
   ]
  },
  {
   "cell_type": "code",
   "execution_count": 52,
   "metadata": {},
   "outputs": [],
   "source": [
    "train_df = train_df[train_df[\"answer\"].isin(top_answers)]\n",
    "val_df = val_df[val_df[\"answer\"].isin(top_answers)]"
   ]
  },
  {
   "cell_type": "code",
   "execution_count": 53,
   "metadata": {},
   "outputs": [
    {
     "name": "stdout",
     "output_type": "stream",
     "text": [
      "Shape of train_df after filtering: (361704, 4)\n",
      "Shape of val_df after filtering: (173782, 4)\n"
     ]
    }
   ],
   "source": [
    "print(\"Shape of train_df after filtering:\", train_df.shape)\n",
    "print(\"Shape of val_df after filtering:\", val_df.shape)"
   ]
  },
  {
   "cell_type": "markdown",
   "metadata": {},
   "source": [
    "## Save `filtered.csv` files for train & val"
   ]
  },
  {
   "cell_type": "code",
   "execution_count": 54,
   "metadata": {},
   "outputs": [],
   "source": [
    "train_df.to_csv(filtered_train_file_path, index=False)\n",
    "val_df.to_csv(filtered_val_file_path, index=False)"
   ]
  },
  {
   "cell_type": "markdown",
   "metadata": {},
   "source": [
    "# Sample Data to only use 25% of total data\n",
    "\n",
    "**NOTE**: Run this section for both train & validation filtered.csv files. Comment the train file paths & uncomment the val file paths to run for validation csv files."
   ]
  },
  {
   "cell_type": "code",
   "execution_count": 56,
   "metadata": {},
   "outputs": [],
   "source": [
    "filtered_file_path = \"./data/train/filtered.csv\"\n",
    "trimmed_file_path = \"./data/train/trimmed.csv\"\n",
    "files_path = \"./data/train/train2014\"\n",
    "rest_images_path = \"./data/train/rest_images\"\n",
    "\n",
    "# filtered_file_path = \"./data/val/filtered.csv\"\n",
    "# trimmed_file_path = \"./data/val/trimmed.csv\"\n",
    "# files_path = \"./data/val/val2014\"\n",
    "# rest_images_path = \"./data/val/rest_images\""
   ]
  },
  {
   "cell_type": "code",
   "execution_count": 57,
   "metadata": {},
   "outputs": [],
   "source": [
    "df = pd.read_csv(filtered_file_path)"
   ]
  },
  {
   "cell_type": "code",
   "execution_count": 58,
   "metadata": {},
   "outputs": [
    {
     "data": {
      "text/html": [
       "<div>\n",
       "<style scoped>\n",
       "    .dataframe tbody tr th:only-of-type {\n",
       "        vertical-align: middle;\n",
       "    }\n",
       "\n",
       "    .dataframe tbody tr th {\n",
       "        vertical-align: top;\n",
       "    }\n",
       "\n",
       "    .dataframe thead th {\n",
       "        text-align: right;\n",
       "    }\n",
       "</style>\n",
       "<table border=\"1\" class=\"dataframe\">\n",
       "  <thead>\n",
       "    <tr style=\"text-align: right;\">\n",
       "      <th></th>\n",
       "      <th>image_id</th>\n",
       "      <th>question_id</th>\n",
       "      <th>answer</th>\n",
       "      <th>question</th>\n",
       "    </tr>\n",
       "  </thead>\n",
       "  <tbody>\n",
       "    <tr>\n",
       "      <th>0</th>\n",
       "      <td>458752</td>\n",
       "      <td>458752000</td>\n",
       "      <td>net</td>\n",
       "      <td>What is this photo taken looking through?</td>\n",
       "    </tr>\n",
       "    <tr>\n",
       "      <th>1</th>\n",
       "      <td>458752</td>\n",
       "      <td>458752001</td>\n",
       "      <td>pitcher</td>\n",
       "      <td>What position is this man playing?</td>\n",
       "    </tr>\n",
       "    <tr>\n",
       "      <th>2</th>\n",
       "      <td>458752</td>\n",
       "      <td>458752002</td>\n",
       "      <td>orange</td>\n",
       "      <td>What color is the players shirt?</td>\n",
       "    </tr>\n",
       "    <tr>\n",
       "      <th>3</th>\n",
       "      <td>458752</td>\n",
       "      <td>458752003</td>\n",
       "      <td>yes</td>\n",
       "      <td>Is this man a professional baseball player?</td>\n",
       "    </tr>\n",
       "    <tr>\n",
       "      <th>4</th>\n",
       "      <td>262146</td>\n",
       "      <td>262146000</td>\n",
       "      <td>white</td>\n",
       "      <td>What color is the snow?</td>\n",
       "    </tr>\n",
       "  </tbody>\n",
       "</table>\n",
       "</div>"
      ],
      "text/plain": [
       "   image_id  question_id   answer                                     question\n",
       "0    458752    458752000      net    What is this photo taken looking through?\n",
       "1    458752    458752001  pitcher           What position is this man playing?\n",
       "2    458752    458752002   orange             What color is the players shirt?\n",
       "3    458752    458752003      yes  Is this man a professional baseball player?\n",
       "4    262146    262146000    white                      What color is the snow?"
      ]
     },
     "execution_count": 58,
     "metadata": {},
     "output_type": "execute_result"
    }
   ],
   "source": [
    "df.head()"
   ]
  },
  {
   "cell_type": "code",
   "execution_count": 59,
   "metadata": {},
   "outputs": [],
   "source": [
    "image_ids = df[\"image_id\"].unique()"
   ]
  },
  {
   "cell_type": "code",
   "execution_count": 61,
   "metadata": {},
   "outputs": [
    {
     "name": "stdout",
     "output_type": "stream",
     "text": [
      "Total number of questions: 361704\n",
      "Number of unique images corresponding to those questions: 82329\n"
     ]
    }
   ],
   "source": [
    "print(\"Total number of questions:\", len(df))\n",
    "print(\"Number of unique images corresponding to those questions:\", len(image_ids))"
   ]
  },
  {
   "cell_type": "markdown",
   "metadata": {},
   "source": [
    "## Shuffle data on `image_id` & pick first 25% of data\n",
    "\n",
    "$Method_1$: \n",
    "- We could randomly shuffle the original data & pick the first 25% of data. However, we might end up with more questions of one type & less of another type. \n",
    "- Example: We might end up with more questions related to `yes/no` type than `what/how` type.\n",
    "- Then, our model might not be able to generalize well on the validation set.\n",
    "\n",
    "$Method_2$:\n",
    "- We randomly shuffle list of `image_id` & pick first 25% of `image_ids`.\n",
    "- We know that each `image_id` has almost equal number of questions of different types.\n",
    "- In this way, we can ensure that we have an equal mix of different types of questions in our training data.\n",
    "\n",
    "\n",
    "**NOTE**: We will use $Method_2$ to sample data."
   ]
  },
  {
   "cell_type": "code",
   "execution_count": 62,
   "metadata": {},
   "outputs": [],
   "source": [
    "np.random.shuffle(image_ids)"
   ]
  },
  {
   "cell_type": "code",
   "execution_count": 63,
   "metadata": {},
   "outputs": [
    {
     "name": "stdout",
     "output_type": "stream",
     "text": [
      "Total images: 82329\n",
      "New sampled data size: 20582\n"
     ]
    }
   ],
   "source": [
    "new_data_size = int(len(image_ids) * 0.25)\n",
    "print(\"Total images:\", len(image_ids))\n",
    "print(\"New sampled data size:\", new_data_size)"
   ]
  },
  {
   "cell_type": "code",
   "execution_count": 64,
   "metadata": {},
   "outputs": [],
   "source": [
    "image_ids = set(image_ids[:new_data_size])"
   ]
  },
  {
   "cell_type": "markdown",
   "metadata": {},
   "source": [
    "## Trim our data to only keep questions with answers in the sampled `image_ids`"
   ]
  },
  {
   "cell_type": "code",
   "execution_count": 65,
   "metadata": {},
   "outputs": [
    {
     "name": "stdout",
     "output_type": "stream",
     "text": [
      "Original data size: 361704\n",
      "New data size: 90679\n"
     ]
    }
   ],
   "source": [
    "print(f\"Original data size: {len(df)}\")\n",
    "df = df[df[\"image_id\"].isin(image_ids)]\n",
    "print(f\"New data size: {len(df)}\")"
   ]
  },
  {
   "cell_type": "markdown",
   "metadata": {},
   "source": [
    "## Save `trimmed.csv` file"
   ]
  },
  {
   "cell_type": "code",
   "execution_count": 66,
   "metadata": {},
   "outputs": [],
   "source": [
    "df.to_csv(trimmed_file_path, index=False)"
   ]
  },
  {
   "cell_type": "markdown",
   "metadata": {},
   "source": [
    "# Generate Answer Space"
   ]
  },
  {
   "cell_type": "code",
   "execution_count": 67,
   "metadata": {},
   "outputs": [],
   "source": [
    "trimmed_file_path_train = \"./data/train/trimmed.csv\"\n",
    "trimmed_file_path_val = \"./data/val/trimmed.csv\"\n",
    "\n",
    "ans_space_file_path = \"./data/answer_space.txt\""
   ]
  },
  {
   "cell_type": "code",
   "execution_count": 68,
   "metadata": {},
   "outputs": [],
   "source": [
    "train_df = pd.read_csv(trimmed_file_path_train)\n",
    "val_df = pd.read_csv(trimmed_file_path_val)"
   ]
  },
  {
   "cell_type": "code",
   "execution_count": 69,
   "metadata": {},
   "outputs": [
    {
     "data": {
      "text/html": [
       "<div>\n",
       "<style scoped>\n",
       "    .dataframe tbody tr th:only-of-type {\n",
       "        vertical-align: middle;\n",
       "    }\n",
       "\n",
       "    .dataframe tbody tr th {\n",
       "        vertical-align: top;\n",
       "    }\n",
       "\n",
       "    .dataframe thead th {\n",
       "        text-align: right;\n",
       "    }\n",
       "</style>\n",
       "<table border=\"1\" class=\"dataframe\">\n",
       "  <thead>\n",
       "    <tr style=\"text-align: right;\">\n",
       "      <th></th>\n",
       "      <th>image_id</th>\n",
       "      <th>question_id</th>\n",
       "      <th>answer</th>\n",
       "      <th>question</th>\n",
       "    </tr>\n",
       "  </thead>\n",
       "  <tbody>\n",
       "    <tr>\n",
       "      <th>0</th>\n",
       "      <td>458752</td>\n",
       "      <td>458752000</td>\n",
       "      <td>net</td>\n",
       "      <td>What is this photo taken looking through?</td>\n",
       "    </tr>\n",
       "    <tr>\n",
       "      <th>1</th>\n",
       "      <td>458752</td>\n",
       "      <td>458752001</td>\n",
       "      <td>pitcher</td>\n",
       "      <td>What position is this man playing?</td>\n",
       "    </tr>\n",
       "    <tr>\n",
       "      <th>2</th>\n",
       "      <td>458752</td>\n",
       "      <td>458752002</td>\n",
       "      <td>orange</td>\n",
       "      <td>What color is the players shirt?</td>\n",
       "    </tr>\n",
       "    <tr>\n",
       "      <th>3</th>\n",
       "      <td>458752</td>\n",
       "      <td>458752003</td>\n",
       "      <td>yes</td>\n",
       "      <td>Is this man a professional baseball player?</td>\n",
       "    </tr>\n",
       "    <tr>\n",
       "      <th>4</th>\n",
       "      <td>262146</td>\n",
       "      <td>262146000</td>\n",
       "      <td>white</td>\n",
       "      <td>What color is the snow?</td>\n",
       "    </tr>\n",
       "  </tbody>\n",
       "</table>\n",
       "</div>"
      ],
      "text/plain": [
       "   image_id  question_id   answer                                     question\n",
       "0    458752    458752000      net    What is this photo taken looking through?\n",
       "1    458752    458752001  pitcher           What position is this man playing?\n",
       "2    458752    458752002   orange             What color is the players shirt?\n",
       "3    458752    458752003      yes  Is this man a professional baseball player?\n",
       "4    262146    262146000    white                      What color is the snow?"
      ]
     },
     "execution_count": 69,
     "metadata": {},
     "output_type": "execute_result"
    }
   ],
   "source": [
    "train_df.head()"
   ]
  },
  {
   "cell_type": "code",
   "execution_count": 70,
   "metadata": {},
   "outputs": [
    {
     "data": {
      "text/html": [
       "<div>\n",
       "<style scoped>\n",
       "    .dataframe tbody tr th:only-of-type {\n",
       "        vertical-align: middle;\n",
       "    }\n",
       "\n",
       "    .dataframe tbody tr th {\n",
       "        vertical-align: top;\n",
       "    }\n",
       "\n",
       "    .dataframe thead th {\n",
       "        text-align: right;\n",
       "    }\n",
       "</style>\n",
       "<table border=\"1\" class=\"dataframe\">\n",
       "  <thead>\n",
       "    <tr style=\"text-align: right;\">\n",
       "      <th></th>\n",
       "      <th>image_id</th>\n",
       "      <th>question_id</th>\n",
       "      <th>answer</th>\n",
       "      <th>question</th>\n",
       "    </tr>\n",
       "  </thead>\n",
       "  <tbody>\n",
       "    <tr>\n",
       "      <th>0</th>\n",
       "      <td>393243</td>\n",
       "      <td>393243000</td>\n",
       "      <td>yes</td>\n",
       "      <td>Will this kid leave the powdered sugar on his ...</td>\n",
       "    </tr>\n",
       "    <tr>\n",
       "      <th>1</th>\n",
       "      <td>393243</td>\n",
       "      <td>393243001</td>\n",
       "      <td>donut</td>\n",
       "      <td>What is the child eating?</td>\n",
       "    </tr>\n",
       "    <tr>\n",
       "      <th>2</th>\n",
       "      <td>393243</td>\n",
       "      <td>393243002</td>\n",
       "      <td>no</td>\n",
       "      <td>Is this person wearing a tie?</td>\n",
       "    </tr>\n",
       "    <tr>\n",
       "      <th>3</th>\n",
       "      <td>393243</td>\n",
       "      <td>393243003</td>\n",
       "      <td>blonde</td>\n",
       "      <td>What color is the kids hair?</td>\n",
       "    </tr>\n",
       "    <tr>\n",
       "      <th>4</th>\n",
       "      <td>131108</td>\n",
       "      <td>131108000</td>\n",
       "      <td>no</td>\n",
       "      <td>Is this photo color?</td>\n",
       "    </tr>\n",
       "  </tbody>\n",
       "</table>\n",
       "</div>"
      ],
      "text/plain": [
       "   image_id  question_id  answer  \\\n",
       "0    393243    393243000     yes   \n",
       "1    393243    393243001   donut   \n",
       "2    393243    393243002      no   \n",
       "3    393243    393243003  blonde   \n",
       "4    131108    131108000      no   \n",
       "\n",
       "                                            question  \n",
       "0  Will this kid leave the powdered sugar on his ...  \n",
       "1                          What is the child eating?  \n",
       "2                      Is this person wearing a tie?  \n",
       "3                       What color is the kids hair?  \n",
       "4                               Is this photo color?  "
      ]
     },
     "execution_count": 70,
     "metadata": {},
     "output_type": "execute_result"
    }
   ],
   "source": [
    "val_df.head()"
   ]
  },
  {
   "cell_type": "markdown",
   "metadata": {},
   "source": [
    "## Use both train & val trimmed csv files to generate answer space\n",
    "\n",
    "**NOTE**: answers can be common in both train & val datasets. So, we will generate answer space from both datasets by storing them in a set first."
   ]
  },
  {
   "cell_type": "code",
   "execution_count": 71,
   "metadata": {},
   "outputs": [],
   "source": [
    "answers = set()"
   ]
  },
  {
   "cell_type": "code",
   "execution_count": 72,
   "metadata": {},
   "outputs": [],
   "source": [
    "for answer in train_df[\"answer\"]:\n",
    "    answers.add(answer)\n",
    "\n",
    "for answer in val_df[\"answer\"]:\n",
    "    answers.add(answer)"
   ]
  },
  {
   "cell_type": "code",
   "execution_count": 73,
   "metadata": {},
   "outputs": [
    {
     "name": "stdout",
     "output_type": "stream",
     "text": [
      "Total number of unique answers: 1000\n"
     ]
    }
   ],
   "source": [
    "with open(ans_space_file_path, \"w\") as f:\n",
    "    for answer in answers:\n",
    "        f.write(str(answer) + \"\\n\")\n",
    "\n",
    "print(\"Total number of unique answers:\", len(answers))"
   ]
  },
  {
   "cell_type": "markdown",
   "metadata": {},
   "source": [
    "# Data Cleaning"
   ]
  },
  {
   "cell_type": "code",
   "execution_count": 76,
   "metadata": {},
   "outputs": [],
   "source": [
    "train = \"./data/train/trimmed.csv\"\n",
    "val = \"./data/val/trimmed.csv\""
   ]
  },
  {
   "cell_type": "code",
   "execution_count": 81,
   "metadata": {},
   "outputs": [],
   "source": [
    "train_df = pd.read_csv(train)\n",
    "val_df = pd.read_csv(val)"
   ]
  },
  {
   "cell_type": "markdown",
   "metadata": {},
   "source": [
    "## Remove NULL entries"
   ]
  },
  {
   "cell_type": "code",
   "execution_count": 82,
   "metadata": {},
   "outputs": [
    {
     "name": "stdout",
     "output_type": "stream",
     "text": [
      "Number of questions in train with no answers: 6\n",
      "Number of questions in val with no answers: 2\n"
     ]
    }
   ],
   "source": [
    "print(\"Number of questions in train with no answers:\", train_df[\"answer\"].isnull().sum())\n",
    "print(\"Number of questions in val with no answers:\", val_df[\"answer\"].isnull().sum())"
   ]
  },
  {
   "cell_type": "code",
   "execution_count": 83,
   "metadata": {},
   "outputs": [
    {
     "name": "stdout",
     "output_type": "stream",
     "text": [
      "Before removing None entries in train_df & val_df (90679, 4) (43285, 4)\n",
      "After removing None entries in train_df & val_df (90673, 4) (43283, 4)\n"
     ]
    }
   ],
   "source": [
    "print(\"Before removing None entries in train_df & val_df\", train_df.shape, val_df.shape)\n",
    "train_df = train_df.dropna(subset=[\"answer\"])\n",
    "val_df = val_df.dropna(subset=[\"answer\"])\n",
    "print(\"After removing None entries in train_df & val_df\", train_df.shape, val_df.shape)"
   ]
  },
  {
   "cell_type": "markdown",
   "metadata": {},
   "source": [
    "## Save updated files"
   ]
  },
  {
   "cell_type": "code",
   "execution_count": null,
   "metadata": {},
   "outputs": [],
   "source": [
    "train_df.to_csv(train, index=False)\n",
    "val_df.to_csv(val, index=False)"
   ]
  }
 ],
 "metadata": {
  "kernelspec": {
   "display_name": "Python 3",
   "language": "python",
   "name": "python3"
  },
  "language_info": {
   "codemirror_mode": {
    "name": "ipython",
    "version": 3
   },
   "file_extension": ".py",
   "mimetype": "text/x-python",
   "name": "python",
   "nbconvert_exporter": "python",
   "pygments_lexer": "ipython3",
   "version": "3.11.0"
  }
 },
 "nbformat": 4,
 "nbformat_minor": 2
}
